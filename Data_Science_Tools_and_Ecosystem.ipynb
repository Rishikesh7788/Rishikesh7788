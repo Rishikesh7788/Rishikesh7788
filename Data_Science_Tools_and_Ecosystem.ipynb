{
  "nbformat": 4,
  "nbformat_minor": 0,
  "metadata": {
    "colab": {
      "provenance": [],
      "authorship_tag": "ABX9TyNLk/7KCqfmWEOOMhtaAi4r",
      "include_colab_link": true
    },
    "kernelspec": {
      "name": "python3",
      "display_name": "Python 3"
    },
    "language_info": {
      "name": "python"
    }
  },
  "cells": [
    {
      "cell_type": "markdown",
      "metadata": {
        "id": "view-in-github",
        "colab_type": "text"
      },
      "source": [
        "<a href=\"https://colab.research.google.com/github/Rishikesh7788/Rishikesh7788/blob/main/Data_Science_Tools_and_Ecosystem.ipynb\" target=\"_parent\"><img src=\"https://colab.research.google.com/assets/colab-badge.svg\" alt=\"Open In Colab\"/></a>"
      ]
    },
    {
      "cell_type": "markdown",
      "source": [
        "## Introduction\n",
        "This notebook provides an overview of the Data Science tools, languages, and libraries that are commonly used by data scientists.  \n",
        "It also demonstrates basic arithmetic operations and unit conversions using Python code cells.\n"
      ],
      "metadata": {
        "id": "ftYMHLjGq5Vl"
      }
    },
    {
      "cell_type": "markdown",
      "source": [
        "## Data Science Languages\n",
        "Some popular languages used in Data Science include:\n",
        "- Python\n",
        "- R\n",
        "- SQL\n",
        "- Julia\n",
        "- Scala"
      ],
      "metadata": {
        "id": "MBmWgL-Fq8Ow"
      }
    },
    {
      "cell_type": "markdown",
      "source": [
        "## Data Science Libraries\n",
        "Some of the most commonly used libraries in Data Science are:\n",
        "- Pandas\n",
        "- NumPy\n",
        "- Matplotlib\n",
        "- Seaborn\n",
        "- Scikit-learn\n",
        "- TensorFlow\n"
      ],
      "metadata": {
        "id": "mRjqyAQLq_U6"
      }
    },
    {
      "cell_type": "markdown",
      "source": [
        "## Data Science Tools\n",
        "\n",
        "| Tool               | Category                |\n",
        "|--------------------|-------------------------|\n",
        "| Jupyter Notebook   | Interactive Development |\n",
        "| RStudio            | IDE for R               |\n",
        "| Apache Spark       | Big Data Processing     |\n",
        "| Tableau            | Data Visualization      |\n",
        "| MATLAB             | Numerical Computing     |\n"
      ],
      "metadata": {
        "id": "dVBkWJbtrDKP"
      }
    },
    {
      "cell_type": "markdown",
      "source": [
        "## Examples of Arithmetic Expressions\n",
        "Arithmetic expressions are mathematical statements used to perform calculations,  \n",
        "such as addition, subtraction, multiplication, and division.  \n",
        "Below is an example of evaluating a simple arithmetic expression in Python.\n"
      ],
      "metadata": {
        "id": "fpiJtWrdrGIn"
      }
    },
    {
      "cell_type": "markdown",
      "source": [
        "Multiply and Add Numbers"
      ],
      "metadata": {
        "id": "Myd_p7VhrI2o"
      }
    },
    {
      "cell_type": "code",
      "source": [
        "result = (2 + 5) * 4\n",
        "result\n"
      ],
      "metadata": {
        "colab": {
          "base_uri": "https://localhost:8080/"
        },
        "id": "rf6Aa4c6rNxE",
        "outputId": "387d3fc2-5ebf-40b0-e414-ff364c7baebc"
      },
      "execution_count": 1,
      "outputs": [
        {
          "output_type": "execute_result",
          "data": {
            "text/plain": [
              "28"
            ]
          },
          "metadata": {},
          "execution_count": 1
        }
      ]
    },
    {
      "cell_type": "markdown",
      "source": [
        "Convert Minutes to Hours"
      ],
      "metadata": {
        "id": "vk25qD7CrWBQ"
      }
    },
    {
      "cell_type": "code",
      "source": [
        "minutes = 200\n",
        "hours = minutes / 60\n",
        "hours\n"
      ],
      "metadata": {
        "colab": {
          "base_uri": "https://localhost:8080/"
        },
        "id": "LK1mPRo2rY5I",
        "outputId": "bd38e993-bdc6-4343-f818-84a13a2e0877"
      },
      "execution_count": 2,
      "outputs": [
        {
          "output_type": "execute_result",
          "data": {
            "text/plain": [
              "3.3333333333333335"
            ]
          },
          "metadata": {},
          "execution_count": 2
        }
      ]
    },
    {
      "cell_type": "markdown",
      "source": [
        "## Objectives\n",
        "The main objectives of this notebook are:\n",
        "- List popular languages for Data Science\n",
        "- List commonly used Data Science libraries\n",
        "- Create a table of Data Science tools\n",
        "- Demonstrate examples of arithmetic expressions\n",
        "- Convert units from minutes to hours using Python\n"
      ],
      "metadata": {
        "id": "46IJFxDhrflz"
      }
    },
    {
      "cell_type": "markdown",
      "source": [
        "## Author\n",
        "Rishikesh K\n"
      ],
      "metadata": {
        "id": "QvrDbHbQridk"
      }
    }
  ]
}